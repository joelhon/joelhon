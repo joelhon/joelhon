{
 "cells": [
  {
   "cell_type": "code",
   "execution_count": 12,
   "metadata": {},
   "outputs": [],
   "source": [
    "from tqdm import tqdm"
   ]
  },
  {
   "cell_type": "code",
   "execution_count": 13,
   "metadata": {},
   "outputs": [],
   "source": [
    "import requests\n",
    "from collections import OrderedDict\n",
    "\n",
    "keyword = \"financial+crime\"\n",
    "\n",
    "starting_url = 'https://api.case.law/v1/cases/?search=' + keyword\n",
    "\n",
    "jurisdictions = {}\n",
    "results_count = 0"
   ]
  },
  {
   "cell_type": "code",
   "execution_count": 14,
   "metadata": {},
   "outputs": [],
   "source": [
    "starting_url = 'https://api.case.law/v1/cases/?page_size=10&search=%22financial+crime%22'"
   ]
  },
  {
   "cell_type": "code",
   "execution_count": 15,
   "metadata": {},
   "outputs": [
    {
     "name": "stderr",
     "output_type": "stream",
     "text": [
      "102it [00:05, 17.17it/s]"
     ]
    },
    {
     "name": "stdout",
     "output_type": "stream",
     "text": [
      "Results for keyword: financial+crime\n",
      "Total cases: 102\n"
     ]
    },
    {
     "name": "stderr",
     "output_type": "stream",
     "text": [
      "\n"
     ]
    }
   ],
   "source": [
    "def get_pages(url):\n",
    "    while True:\n",
    "        result = requests.get(url).json()\n",
    "        yield result\n",
    "        url = result['next']\n",
    "        if not url:\n",
    "            break\n",
    "\n",
    "def get_results(url):\n",
    "    for page in get_pages(url):\n",
    "        for result in page['results']:\n",
    "            yield result\n",
    "\n",
    "for case in tqdm(get_results(starting_url)):\n",
    "    results_count += 1\n",
    "\n",
    "    id = case['id']\n",
    "    name = case['name_abbreviation']\n",
    "    jurisdiction = case['jurisdiction']['name']\n",
    "    date = case['decision_date']\n",
    "    url = case['url']\n",
    "\n",
    "    if jurisdiction not in jurisdictions:\n",
    "        jurisdictions[jurisdiction] = {'name': jurisdiction, 'count': 1, 'oldest_case_id': id,\n",
    "                                       'oldest_case_name': name, 'oldest_case_date': date, 'oldest_case_url': url}\n",
    "\n",
    "    else:\n",
    "        new_count = jurisdictions[jurisdiction]['count'] + 1\n",
    "        if jurisdictions[jurisdiction]['oldest_case_date'] > date:\n",
    "            jurisdictions[jurisdiction] = {'name': jurisdiction, 'count': new_count, 'oldest_case_id': id,\n",
    "                                           'oldest_case_name': name, 'oldest_case_date': date,\n",
    "                                           'oldest_case_url': url}\n",
    "\n",
    "print('Results for keyword: ' + keyword)\n",
    "print('Total cases: ' + str(results_count))"
   ]
  },
  {
   "cell_type": "code",
   "execution_count": 17,
   "metadata": {},
   "outputs": [
    {
     "name": "stderr",
     "output_type": "stream",
     "text": [
      "102it [00:00, 131.06it/s]\n"
     ]
    },
    {
     "data": {
      "text/plain": [
       "['https://cite.case.law/f-appx/679/873/',\n",
       " 'https://cite.case.law/f-supp-2d/803/699/',\n",
       " 'https://cite.case.law/f-appx/655/562/',\n",
       " 'https://cite.case.law/f3d/46/42/',\n",
       " 'https://cite.case.law/f3d/280/1189/',\n",
       " 'https://cite.case.law/f2d/816/730/1678170/',\n",
       " 'https://cite.case.law/us-app-dc/259/426/',\n",
       " 'https://cite.case.law/f-appx/577/939/',\n",
       " 'https://cite.case.law/f2d/846/1029/',\n",
       " 'https://cite.case.law/f-supp/731/835/',\n",
       " 'https://cite.case.law/f3d/448/989/',\n",
       " 'https://cite.case.law/ill-app-3d/366/341/',\n",
       " 'https://cite.case.law/f-supp-2d/405/1341/',\n",
       " 'https://cite.case.law/f3d/175/1129/',\n",
       " 'https://cite.case.law/f-appx/365/180/',\n",
       " 'https://cite.case.law/f-supp/838/474/',\n",
       " 'https://cite.case.law/f-appx/491/529/',\n",
       " 'https://cite.case.law/nev/129/833/',\n",
       " 'https://cite.case.law/misc-3d/33/398/',\n",
       " 'https://cite.case.law/f-supp-2d/710/167/',\n",
       " 'https://cite.case.law/f-appx/41/947/',\n",
       " 'https://cite.case.law/f3d/803/120/',\n",
       " 'https://cite.case.law/f3d/284/827/',\n",
       " 'https://cite.case.law/ill-app-3d/383/356/',\n",
       " 'https://cite.case.law/f3d/712/1006/',\n",
       " 'https://cite.case.law/f3d/697/544/',\n",
       " 'https://cite.case.law/wash-app/101/533/',\n",
       " 'https://cite.case.law/mont/353/111/',\n",
       " 'https://cite.case.law/f3d/765/712/',\n",
       " 'https://cite.case.law/f-supp-2d/301/607/',\n",
       " 'https://cite.case.law/f-supp-2d/750/850/',\n",
       " 'https://cite.case.law/f3d/510/844/',\n",
       " 'https://cite.case.law/f3d/238/1215/11147928/',\n",
       " 'https://cite.case.law/f-appx/711/307/',\n",
       " 'https://cite.case.law/f-appx/127/770/',\n",
       " 'https://cite.case.law/nw2d/679/153/9262823/',\n",
       " 'https://cite.case.law/f-appx/673/13/',\n",
       " 'https://cite.case.law/f-supp-2d/49/7/',\n",
       " 'https://cite.case.law/f-supp/259/539/',\n",
       " 'https://cite.case.law/ne2d/790/440/',\n",
       " 'https://cite.case.law/frd/225/487/',\n",
       " 'https://cite.case.law/sw3d/80/432/',\n",
       " 'https://cite.case.law/f-appx/332/801/',\n",
       " 'https://cite.case.law/cal-app-3d/119/78/',\n",
       " 'https://cite.case.law/f-appx/509/476/',\n",
       " 'https://cite.case.law/f3d/764/717/',\n",
       " 'https://cite.case.law/f3d/23/670/',\n",
       " 'https://cite.case.law/br/290/622/',\n",
       " 'https://cite.case.law/f3d/655/403/',\n",
       " 'https://cite.case.law/f3d/458/606/',\n",
       " 'https://cite.case.law/f3d/512/372/',\n",
       " 'https://cite.case.law/f-supp-3d/161/1150/',\n",
       " 'https://cite.case.law/mont/301/289/',\n",
       " 'https://cite.case.law/f-appx/308/870/',\n",
       " 'https://cite.case.law/f3d/595/763/4217007/',\n",
       " 'https://cite.case.law/us-app-dc/398/298/',\n",
       " 'https://cite.case.law/f-appx/704/509/',\n",
       " 'https://cite.case.law/f3d/595/763/5876715/',\n",
       " 'https://cite.case.law/f3d/663/460/5879211/',\n",
       " 'https://cite.case.law/f-supp-2d/889/1321/',\n",
       " 'https://cite.case.law/f-appx/431/617/',\n",
       " 'https://cite.case.law/f-supp-3d/13/92/',\n",
       " 'https://cite.case.law/f-appx/516/777/',\n",
       " 'https://cite.case.law/f3d/748/86/',\n",
       " 'https://cite.case.law/f-appx/623/538/',\n",
       " 'https://cite.case.law/f-supp/791/1471/',\n",
       " 'https://cite.case.law/f-supp-3d/602/260/',\n",
       " 'https://cite.case.law/f3d/602/260/',\n",
       " 'https://cite.case.law/f-supp-3d/249/215/',\n",
       " 'https://cite.case.law/f3d/816/12/',\n",
       " 'https://cite.case.law/a2d/683/989/',\n",
       " 'https://cite.case.law/br/438/679/',\n",
       " 'https://cite.case.law/cal-app-4th/196/1228/',\n",
       " 'https://cite.case.law/f3d/48/1560/',\n",
       " 'https://cite.case.law/f3d/80/964/',\n",
       " 'https://cite.case.law/wash-app/186/749/',\n",
       " 'https://cite.case.law/f-appx/234/374/',\n",
       " 'https://cite.case.law/f-supp-2d/761/957/',\n",
       " 'https://cite.case.law/sw3d/397/891/',\n",
       " 'https://cite.case.law/kan-app-2d/50/663/',\n",
       " 'https://cite.case.law/f-supp-3d/60/225/',\n",
       " 'https://cite.case.law/frd/246/107/',\n",
       " 'https://cite.case.law/f-supp/973/691/',\n",
       " 'https://cite.case.law/f3d/292/396/',\n",
       " 'https://cite.case.law/f-supp-2d/941/167/',\n",
       " 'https://cite.case.law/us/489/749/',\n",
       " 'https://cite.case.law/f3d/158/1147/',\n",
       " 'https://cite.case.law/f3d/369/173/',\n",
       " 'https://cite.case.law/f-supp-2d/643/23/',\n",
       " 'https://cite.case.law/f3d/10/123/',\n",
       " 'https://cite.case.law/f3d/478/52/',\n",
       " 'https://cite.case.law/f3d/559/3/',\n",
       " 'https://cite.case.law/f-supp-3d/25/842/',\n",
       " 'https://cite.case.law/f3d/633/219/',\n",
       " 'https://cite.case.law/f-supp-2d/570/749/',\n",
       " 'https://cite.case.law/f-supp-3d/256/355/',\n",
       " 'https://cite.case.law/f3d/787/466/',\n",
       " 'https://cite.case.law/f-supp-2d/718/953/',\n",
       " 'https://cite.case.law/f-supp/833/1121/',\n",
       " 'https://cite.case.law/f-supp-2d/781/115/',\n",
       " 'https://cite.case.law/br/176/835/',\n",
       " 'https://cite.case.law/f-supp-2d/549/308/']"
      ]
     },
     "execution_count": 17,
     "metadata": {},
     "output_type": "execute_result"
    }
   ],
   "source": [
    "url_list = []\n",
    "for case in tqdm(get_results(starting_url)):\n",
    "    case_link = case['frontend_url']\n",
    "    url_list.append(case_link)\n",
    "url_list"
   ]
  },
  {
   "cell_type": "code",
   "execution_count": 18,
   "metadata": {},
   "outputs": [],
   "source": [
    "with open('url_list.txt', 'w') as f:\n",
    "    for link in url_list:\n",
    "        f.write(\"%s\\n\" % link)"
   ]
  }
 ],
 "metadata": {
  "kernelspec": {
   "display_name": "Python 3",
   "language": "python",
   "name": "python3"
  },
  "language_info": {
   "codemirror_mode": {
    "name": "ipython",
    "version": 3
   },
   "file_extension": ".py",
   "mimetype": "text/x-python",
   "name": "python",
   "nbconvert_exporter": "python",
   "pygments_lexer": "ipython3",
   "version": "3.6.5"
  }
 },
 "nbformat": 4,
 "nbformat_minor": 2
}
